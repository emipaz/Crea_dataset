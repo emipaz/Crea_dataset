{
 "cells": [
  {
   "cell_type": "code",
   "execution_count": 8,
   "metadata": {},
   "outputs": [],
   "source": [
    "from requests import get\n",
    "from bs4 import BeautifulSoup\n",
    "import pandas as pd\n",
    "import string                              \n",
    "from nltk.corpus import stopwords          \n",
    "from nltk.stem import PorterStemmer        \n",
    "from nltk.tokenize import TweetTokenizer \n",
    "stopwords_english = stopwords.words('english')\n",
    "tokenizer = TweetTokenizer(preserve_case = False, \n",
    "                           strip_handles = True,\n",
    "                           reduce_len    = True)\n",
    "stemmer = PorterStemmer()\n",
    "webs    = pd.ExcelFile(\"WEBs_act.xls\")\n",
    "df      = webs.parse(\"Categorias\")\n",
    "textos2 = pd.DataFrame(columns = ['Texto', 'Clase'])\n",
    "for i in df.index:\n",
    "    url       = df[\"URL\"][i]\n",
    "    pagina    = get(url)\n",
    "    html      = BeautifulSoup(pagina.text,\"html.parser\")\n",
    "    parrafos  = [x.text.strip() for x in html.findAll(\"p\") if x.text != \"\\n\"]\n",
    "    for p in parrafos:\n",
    "        if 50 < len(p) < 1600:\n",
    "            texto_tokens = tokenizer.tokenize(p)\n",
    "            texto_clean  = [ word for word in texto_tokens if\n",
    "                            word not in stopwords_english and\n",
    "                            word not in string.punctuation]\n",
    "            texto_stem   = [stemmer.stem(word) for word in texto_clean]\n",
    "            textos2 = textos2.append({'Texto': texto_stem, 'Clase':df[\"CÓDIGO\"][i]}, ignore_index=True)"
   ]
  },
  {
   "cell_type": "code",
   "execution_count": 10,
   "metadata": {},
   "outputs": [
    {
     "data": {
      "text/plain": [
       "5349"
      ]
     },
     "execution_count": 10,
     "metadata": {},
     "output_type": "execute_result"
    }
   ],
   "source": [
    "len(textos2)"
   ]
  },
  {
   "cell_type": "code",
   "execution_count": 15,
   "metadata": {},
   "outputs": [
    {
     "data": {
      "text/html": [
       "<div>\n",
       "<style scoped>\n",
       "    .dataframe tbody tr th:only-of-type {\n",
       "        vertical-align: middle;\n",
       "    }\n",
       "\n",
       "    .dataframe tbody tr th {\n",
       "        vertical-align: top;\n",
       "    }\n",
       "\n",
       "    .dataframe thead th {\n",
       "        text-align: right;\n",
       "    }\n",
       "</style>\n",
       "<table border=\"1\" class=\"dataframe\">\n",
       "  <thead>\n",
       "    <tr style=\"text-align: right;\">\n",
       "      <th></th>\n",
       "      <th>Texto</th>\n",
       "      <th>Clase</th>\n",
       "    </tr>\n",
       "  </thead>\n",
       "  <tbody>\n",
       "    <tr>\n",
       "      <th>count</th>\n",
       "      <td>5349</td>\n",
       "      <td>5349</td>\n",
       "    </tr>\n",
       "    <tr>\n",
       "      <th>unique</th>\n",
       "      <td>5348</td>\n",
       "      <td>5</td>\n",
       "    </tr>\n",
       "    <tr>\n",
       "      <th>top</th>\n",
       "      <td>[war, last, mani, year, length, end, acced, te...</td>\n",
       "      <td>3</td>\n",
       "    </tr>\n",
       "    <tr>\n",
       "      <th>freq</th>\n",
       "      <td>2</td>\n",
       "      <td>1107</td>\n",
       "    </tr>\n",
       "  </tbody>\n",
       "</table>\n",
       "</div>"
      ],
      "text/plain": [
       "                                                    Texto  Clase\n",
       "count                                                5349   5349\n",
       "unique                                               5348      5\n",
       "top     [war, last, mani, year, length, end, acced, te...      3\n",
       "freq                                                    2   1107"
      ]
     },
     "execution_count": 15,
     "metadata": {},
     "output_type": "execute_result"
    }
   ],
   "source": [
    "textos2.describe()"
   ]
  },
  {
   "cell_type": "code",
   "execution_count": 13,
   "metadata": {},
   "outputs": [
    {
     "data": {
      "text/plain": [
       "3    1107\n",
       "2    1089\n",
       "5    1079\n",
       "1    1054\n",
       "4    1020\n",
       "Name: Clase, dtype: int64"
      ]
     },
     "execution_count": 13,
     "metadata": {},
     "output_type": "execute_result"
    }
   ],
   "source": [
    "textos2[\"Clase\"].value_counts()"
   ]
  },
  {
   "cell_type": "code",
   "execution_count": 14,
   "metadata": {},
   "outputs": [],
   "source": [
    "textos2.to_csv(\"historia.csv\")"
   ]
  },
  {
   "cell_type": "code",
   "execution_count": null,
   "metadata": {},
   "outputs": [],
   "source": []
  }
 ],
 "metadata": {
  "kernelspec": {
   "display_name": "Python 3.7.4 64-bit ('base': conda)",
   "language": "python",
   "name": "python37464bitbaseconda558c5b00091e4465b87cbb418ecb0c83"
  },
  "language_info": {
   "codemirror_mode": {
    "name": "ipython",
    "version": 3
   },
   "file_extension": ".py",
   "mimetype": "text/x-python",
   "name": "python",
   "nbconvert_exporter": "python",
   "pygments_lexer": "ipython3",
   "version": "3.7.7"
  }
 },
 "nbformat": 4,
 "nbformat_minor": 4
}
